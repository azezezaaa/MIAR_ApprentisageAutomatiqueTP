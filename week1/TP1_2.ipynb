{
 "cells": [
  {
   "cell_type": "markdown",
   "metadata": {},
   "source": [
    "## TP1 part 2\n",
    "Data taken from https://archive.ics.uci.edu/ml/machine-learning-databases/forest-fires/  \n",
    "Can we find if there was a fire based on day, DMC, temp, win, rain  \n",
    "DMC is a numerical rating of the average moisture content"
   ]
  },
  {
   "cell_type": "markdown",
   "metadata": {},
   "source": [
    "#### Loading libraries, packages & the data"
   ]
  },
  {
   "cell_type": "code",
   "execution_count": 1,
   "metadata": {},
   "outputs": [],
   "source": [
    "# libraries\n",
    "import numpy as np\n",
    "import pandas as pd\n",
    "import matplotlib.pyplot as plt\n",
    "\n",
    "# Handling missing data \n",
    "from sklearn.impute import SimpleImputer\n",
    "\n",
    "# Encoding categorical Data\n",
    "from sklearn.preprocessing import OneHotEncoder\n",
    "from sklearn.compose import ColumnTransformer\n",
    "from sklearn.preprocessing import LabelEncoder\n",
    "\n",
    "# Splitting the dataset into the Training set and Test set\n",
    "from sklearn.model_selection import train_test_split\n",
    "\n",
    "# Feature Scaling\n",
    "from sklearn.preprocessing import StandardScaler\n",
    "\n",
    "# Linear Regression\n",
    "from sklearn.linear_model import LinearRegression"
   ]
  },
  {
   "cell_type": "code",
   "execution_count": 2,
   "metadata": {},
   "outputs": [
    {
     "output_type": "stream",
     "name": "stdout",
     "text": "X  Y month  day  FFMC    DMC     DC   ISI  temp  RH  wind  rain   area\n0    7  5   mar  fri  86.2   26.2   94.3   5.1   8.2  51   6.7   0.0   0.00\n1    7  4   oct  tue  90.6   35.4  669.1   6.7  18.0  33   0.9   0.0   0.00\n2    7  4   oct  sat  90.6   43.7  686.9   6.7  14.6  33   1.3   0.0   0.00\n3    8  6   mar  fri  91.7   33.3   77.5   9.0   8.3  97   4.0   0.2   0.00\n4    8  6   mar  sun  89.3   51.3  102.2   9.6  11.4  99   1.8   0.0   0.00\n..  .. ..   ...  ...   ...    ...    ...   ...   ...  ..   ...   ...    ...\n512  4  3   aug  sun  81.6   56.7  665.6   1.9  27.8  32   2.7   0.0   6.44\n513  2  4   aug  sun  81.6   56.7  665.6   1.9  21.9  71   5.8   0.0  54.29\n514  7  4   aug  sun  81.6   56.7  665.6   1.9  21.2  70   6.7   0.0  11.16\n515  1  4   aug  sat  94.4  146.0  614.7  11.3  25.6  42   4.0   0.0   0.00\n516  6  3   nov  tue  79.5    3.0  106.7   1.1  11.8  31   4.5   0.0   0.00\n\n[517 rows x 13 columns]\n"
    }
   ],
   "source": [
    "# Load data\n",
    "fires_df_original = pd.read_csv('forestfires.csv')\n",
    "# Make a copy of data\n",
    "fires_df = fires_df_original.copy()\n",
    "print(fires_df)"
   ]
  },
  {
   "cell_type": "markdown",
   "metadata": {},
   "source": [
    "#### Checking the structure of the data & extract features  "
   ]
  },
  {
   "cell_type": "code",
   "execution_count": 3,
   "metadata": {},
   "outputs": [
    {
     "output_type": "stream",
     "name": "stdout",
     "text": "<class 'pandas.core.frame.DataFrame'>\nRangeIndex: 517 entries, 0 to 516\nData columns (total 13 columns):\n #   Column  Non-Null Count  Dtype  \n---  ------  --------------  -----  \n 0   X       517 non-null    int64  \n 1   Y       517 non-null    int64  \n 2   month   517 non-null    object \n 3   day     517 non-null    object \n 4   FFMC    517 non-null    float64\n 5   DMC     517 non-null    float64\n 6   DC      517 non-null    float64\n 7   ISI     517 non-null    float64\n 8   temp    517 non-null    float64\n 9   RH      517 non-null    int64  \n 10  wind    517 non-null    float64\n 11  rain    517 non-null    float64\n 12  area    517 non-null    float64\ndtypes: float64(8), int64(3), object(2)\nmemory usage: 52.6+ KB\nDataset shape: (517, 13)\n"
    }
   ],
   "source": [
    "# This method prints information about a DataFrame including the index dtype and column dtypes, non-null values and memory usage.\n",
    "fires_df.info()\n",
    "print('Dataset shape: ', fires_df.shape, sep=\"\") "
   ]
  },
  {
   "cell_type": "code",
   "execution_count": 4,
   "metadata": {},
   "outputs": [
    {
     "output_type": "execute_result",
     "data": {
      "text/plain": "count    517.000000\nmean      18.889168\nstd        5.806625\nmin        2.200000\n25%       15.500000\n50%       19.300000\n75%       22.800000\nmax       33.300000\nName: temp, dtype: float64"
     },
     "metadata": {},
     "execution_count": 4
    }
   ],
   "source": [
    "# checking description for 1 column\n",
    "fires_df.temp.describe()"
   ]
  },
  {
   "cell_type": "code",
   "execution_count": 5,
   "metadata": {},
   "outputs": [
    {
     "output_type": "execute_result",
     "data": {
      "text/plain": "   X  Y month  day  FFMC   DMC     DC  ISI  temp  RH  wind  rain  area\n0  7  5   mar  fri  86.2  26.2   94.3  5.1   8.2  51   6.7   0.0   0.0\n1  7  4   oct  tue  90.6  35.4  669.1  6.7  18.0  33   0.9   0.0   0.0\n2  7  4   oct  sat  90.6  43.7  686.9  6.7  14.6  33   1.3   0.0   0.0\n3  8  6   mar  fri  91.7  33.3   77.5  9.0   8.3  97   4.0   0.2   0.0\n4  8  6   mar  sun  89.3  51.3  102.2  9.6  11.4  99   1.8   0.0   0.0",
      "text/html": "<div>\n<style scoped>\n    .dataframe tbody tr th:only-of-type {\n        vertical-align: middle;\n    }\n\n    .dataframe tbody tr th {\n        vertical-align: top;\n    }\n\n    .dataframe thead th {\n        text-align: right;\n    }\n</style>\n<table border=\"1\" class=\"dataframe\">\n  <thead>\n    <tr style=\"text-align: right;\">\n      <th></th>\n      <th>X</th>\n      <th>Y</th>\n      <th>month</th>\n      <th>day</th>\n      <th>FFMC</th>\n      <th>DMC</th>\n      <th>DC</th>\n      <th>ISI</th>\n      <th>temp</th>\n      <th>RH</th>\n      <th>wind</th>\n      <th>rain</th>\n      <th>area</th>\n    </tr>\n  </thead>\n  <tbody>\n    <tr>\n      <th>0</th>\n      <td>7</td>\n      <td>5</td>\n      <td>mar</td>\n      <td>fri</td>\n      <td>86.2</td>\n      <td>26.2</td>\n      <td>94.3</td>\n      <td>5.1</td>\n      <td>8.2</td>\n      <td>51</td>\n      <td>6.7</td>\n      <td>0.0</td>\n      <td>0.0</td>\n    </tr>\n    <tr>\n      <th>1</th>\n      <td>7</td>\n      <td>4</td>\n      <td>oct</td>\n      <td>tue</td>\n      <td>90.6</td>\n      <td>35.4</td>\n      <td>669.1</td>\n      <td>6.7</td>\n      <td>18.0</td>\n      <td>33</td>\n      <td>0.9</td>\n      <td>0.0</td>\n      <td>0.0</td>\n    </tr>\n    <tr>\n      <th>2</th>\n      <td>7</td>\n      <td>4</td>\n      <td>oct</td>\n      <td>sat</td>\n      <td>90.6</td>\n      <td>43.7</td>\n      <td>686.9</td>\n      <td>6.7</td>\n      <td>14.6</td>\n      <td>33</td>\n      <td>1.3</td>\n      <td>0.0</td>\n      <td>0.0</td>\n    </tr>\n    <tr>\n      <th>3</th>\n      <td>8</td>\n      <td>6</td>\n      <td>mar</td>\n      <td>fri</td>\n      <td>91.7</td>\n      <td>33.3</td>\n      <td>77.5</td>\n      <td>9.0</td>\n      <td>8.3</td>\n      <td>97</td>\n      <td>4.0</td>\n      <td>0.2</td>\n      <td>0.0</td>\n    </tr>\n    <tr>\n      <th>4</th>\n      <td>8</td>\n      <td>6</td>\n      <td>mar</td>\n      <td>sun</td>\n      <td>89.3</td>\n      <td>51.3</td>\n      <td>102.2</td>\n      <td>9.6</td>\n      <td>11.4</td>\n      <td>99</td>\n      <td>1.8</td>\n      <td>0.0</td>\n      <td>0.0</td>\n    </tr>\n  </tbody>\n</table>\n</div>"
     },
     "metadata": {},
     "execution_count": 5
    }
   ],
   "source": [
    "# List the top 5 rows\n",
    "fires_df.head(5)"
   ]
  },
  {
   "cell_type": "markdown",
   "metadata": {},
   "source": [
    "#### Examining Missing Values"
   ]
  },
  {
   "cell_type": "code",
   "execution_count": 6,
   "metadata": {},
   "outputs": [
    {
     "output_type": "execute_result",
     "data": {
      "text/plain": "       Missing values  % of Total values\narea                0                0.0\nrain                0                0.0\nwind                0                0.0\nRH                  0                0.0\ntemp                0                0.0\nISI                 0                0.0\nDC                  0                0.0\nDMC                 0                0.0\nFFMC                0                0.0\nday                 0                0.0\nmonth               0                0.0\nY                   0                0.0\nX                   0                0.0",
      "text/html": "<div>\n<style scoped>\n    .dataframe tbody tr th:only-of-type {\n        vertical-align: middle;\n    }\n\n    .dataframe tbody tr th {\n        vertical-align: top;\n    }\n\n    .dataframe thead th {\n        text-align: right;\n    }\n</style>\n<table border=\"1\" class=\"dataframe\">\n  <thead>\n    <tr style=\"text-align: right;\">\n      <th></th>\n      <th>Missing values</th>\n      <th>% of Total values</th>\n    </tr>\n  </thead>\n  <tbody>\n    <tr>\n      <th>area</th>\n      <td>0</td>\n      <td>0.0</td>\n    </tr>\n    <tr>\n      <th>rain</th>\n      <td>0</td>\n      <td>0.0</td>\n    </tr>\n    <tr>\n      <th>wind</th>\n      <td>0</td>\n      <td>0.0</td>\n    </tr>\n    <tr>\n      <th>RH</th>\n      <td>0</td>\n      <td>0.0</td>\n    </tr>\n    <tr>\n      <th>temp</th>\n      <td>0</td>\n      <td>0.0</td>\n    </tr>\n    <tr>\n      <th>ISI</th>\n      <td>0</td>\n      <td>0.0</td>\n    </tr>\n    <tr>\n      <th>DC</th>\n      <td>0</td>\n      <td>0.0</td>\n    </tr>\n    <tr>\n      <th>DMC</th>\n      <td>0</td>\n      <td>0.0</td>\n    </tr>\n    <tr>\n      <th>FFMC</th>\n      <td>0</td>\n      <td>0.0</td>\n    </tr>\n    <tr>\n      <th>day</th>\n      <td>0</td>\n      <td>0.0</td>\n    </tr>\n    <tr>\n      <th>month</th>\n      <td>0</td>\n      <td>0.0</td>\n    </tr>\n    <tr>\n      <th>Y</th>\n      <td>0</td>\n      <td>0.0</td>\n    </tr>\n    <tr>\n      <th>X</th>\n      <td>0</td>\n      <td>0.0</td>\n    </tr>\n  </tbody>\n</table>\n</div>"
     },
     "metadata": {},
     "execution_count": 6
    }
   ],
   "source": [
    "# Finding how many missing data are there in the dataset\n",
    "total = fires_df.isnull().sum().sort_values(ascending=False)\n",
    "percent = round(((fires_df.isnull().sum() / fires_df.isnull().count())*100),2).sort_values(ascending=False)\n",
    "missing_data = pd.concat([total, percent], axis=1, keys=['Missing values', '% of Total values'])\n",
    "missing_data"
   ]
  },
  {
   "cell_type": "code",
   "execution_count": 7,
   "metadata": {},
   "outputs": [
    {
     "output_type": "execute_result",
     "data": {
      "text/plain": "Index(['X', 'Y', 'month', 'day', 'FFMC', 'DMC', 'DC', 'ISI', 'temp', 'RH',\n       'wind', 'rain', 'area'],\n      dtype='object')"
     },
     "metadata": {},
     "execution_count": 7
    }
   ],
   "source": [
    "fires_df.columns"
   ]
  },
  {
   "cell_type": "code",
   "execution_count": 8,
   "metadata": {},
   "outputs": [
    {
     "output_type": "execute_result",
     "data": {
      "text/plain": "(517, 13)"
     },
     "metadata": {},
     "execution_count": 8
    }
   ],
   "source": [
    "fires_df.shape"
   ]
  },
  {
   "cell_type": "markdown",
   "metadata": {},
   "source": [
    "#### Remove duplicate rows"
   ]
  },
  {
   "cell_type": "code",
   "execution_count": 9,
   "metadata": {},
   "outputs": [
    {
     "output_type": "stream",
     "name": "stdout",
     "text": "(517, 13)\n(513, 13)\n"
    }
   ],
   "source": [
    "print(fires_df.shape)  #  were there any duplicates?\n",
    "fires_df = fires_df.drop_duplicates(keep = 'first')\n",
    "print(fires_df.shape)"
   ]
  },
  {
   "cell_type": "markdown",
   "metadata": {},
   "source": [
    "#### Drop all rows with NaN values in their columns"
   ]
  },
  {
   "cell_type": "code",
   "execution_count": 10,
   "metadata": {},
   "outputs": [
    {
     "output_type": "execute_result",
     "data": {
      "text/plain": "(513, 13)"
     },
     "metadata": {},
     "execution_count": 10
    }
   ],
   "source": [
    "nan_cols = ['X', 'Y', 'month', 'day', 'FFMC', 'DMC', 'DC', 'ISI', 'temp', 'RH', 'wind', 'rain', 'area']\n",
    "fires_df[nan_cols] = fires_df[nan_cols].replace(\"Nil\", np.nan)  # dropping the rows having nil\n",
    "fires_df.dropna(subset = nan_cols, inplace=True)\n",
    "fires_df.shape"
   ]
  },
  {
   "cell_type": "markdown",
   "metadata": {},
   "source": [
    "#### Dropping irrelevant cols"
   ]
  },
  {
   "cell_type": "code",
   "execution_count": 11,
   "metadata": {},
   "outputs": [],
   "source": [
    "fires_df = fires_df.drop(columns=['X', 'Y', 'month', 'FFMC', 'DC', 'ISI', 'RH', 'rain'], axis=1)"
   ]
  },
  {
   "cell_type": "code",
   "execution_count": 12,
   "metadata": {},
   "outputs": [
    {
     "output_type": "execute_result",
     "data": {
      "text/plain": "(513, 5)"
     },
     "metadata": {},
     "execution_count": 12
    }
   ],
   "source": [
    "fires_df.shape"
   ]
  },
  {
   "cell_type": "code",
   "execution_count": 13,
   "metadata": {},
   "outputs": [
    {
     "output_type": "execute_result",
     "data": {
      "text/plain": "   day   DMC  temp  wind  area\n0  fri  26.2   8.2   6.7   0.0\n1  tue  35.4  18.0   0.9   0.0\n2  sat  43.7  14.6   1.3   0.0\n3  fri  33.3   8.3   4.0   0.0\n4  sun  51.3  11.4   1.8   0.0",
      "text/html": "<div>\n<style scoped>\n    .dataframe tbody tr th:only-of-type {\n        vertical-align: middle;\n    }\n\n    .dataframe tbody tr th {\n        vertical-align: top;\n    }\n\n    .dataframe thead th {\n        text-align: right;\n    }\n</style>\n<table border=\"1\" class=\"dataframe\">\n  <thead>\n    <tr style=\"text-align: right;\">\n      <th></th>\n      <th>day</th>\n      <th>DMC</th>\n      <th>temp</th>\n      <th>wind</th>\n      <th>area</th>\n    </tr>\n  </thead>\n  <tbody>\n    <tr>\n      <th>0</th>\n      <td>fri</td>\n      <td>26.2</td>\n      <td>8.2</td>\n      <td>6.7</td>\n      <td>0.0</td>\n    </tr>\n    <tr>\n      <th>1</th>\n      <td>tue</td>\n      <td>35.4</td>\n      <td>18.0</td>\n      <td>0.9</td>\n      <td>0.0</td>\n    </tr>\n    <tr>\n      <th>2</th>\n      <td>sat</td>\n      <td>43.7</td>\n      <td>14.6</td>\n      <td>1.3</td>\n      <td>0.0</td>\n    </tr>\n    <tr>\n      <th>3</th>\n      <td>fri</td>\n      <td>33.3</td>\n      <td>8.3</td>\n      <td>4.0</td>\n      <td>0.0</td>\n    </tr>\n    <tr>\n      <th>4</th>\n      <td>sun</td>\n      <td>51.3</td>\n      <td>11.4</td>\n      <td>1.8</td>\n      <td>0.0</td>\n    </tr>\n  </tbody>\n</table>\n</div>"
     },
     "metadata": {},
     "execution_count": 13
    }
   ],
   "source": [
    "fires_df.head(5)"
   ]
  },
  {
   "cell_type": "code",
   "execution_count": 14,
   "metadata": {},
   "outputs": [
    {
     "output_type": "execute_result",
     "data": {
      "text/plain": "count     513.000000\nmean       12.891598\nstd        63.892586\nmin         0.000000\n25%         0.000000\n50%         0.540000\n75%         6.570000\nmax      1090.840000\nName: area, dtype: float64"
     },
     "metadata": {},
     "execution_count": 14
    }
   ],
   "source": [
    "fires_df.area.describe()"
   ]
  },
  {
   "cell_type": "markdown",
   "metadata": {},
   "source": [
    "#### Extract features"
   ]
  },
  {
   "cell_type": "code",
   "execution_count": 15,
   "metadata": {},
   "outputs": [],
   "source": [
    "x = fires_df.iloc[:,:-1].values\n",
    "y = fires_df.iloc[:,-1].values"
   ]
  },
  {
   "cell_type": "code",
   "execution_count": 16,
   "metadata": {},
   "outputs": [
    {
     "output_type": "execute_result",
     "data": {
      "text/plain": "array([['fri', 26.2, 8.2, 6.7],\n       ['tue', 35.4, 18.0, 0.9],\n       ['sat', 43.7, 14.6, 1.3],\n       ...,\n       ['sun', 56.7, 21.2, 6.7],\n       ['sat', 146.0, 25.6, 4.0],\n       ['tue', 3.0, 11.8, 4.5]], dtype=object)"
     },
     "metadata": {},
     "execution_count": 16
    }
   ],
   "source": [
    "x"
   ]
  },
  {
   "cell_type": "code",
   "execution_count": 17,
   "metadata": {},
   "outputs": [
    {
     "output_type": "execute_result",
     "data": {
      "text/plain": "array([0.00000e+00, 0.00000e+00, 0.00000e+00, 0.00000e+00, 0.00000e+00,\n       0.00000e+00, 0.00000e+00, 0.00000e+00, 0.00000e+00, 0.00000e+00,\n       0.00000e+00, 0.00000e+00, 0.00000e+00, 0.00000e+00, 0.00000e+00,\n       0.00000e+00, 0.00000e+00, 0.00000e+00, 0.00000e+00, 0.00000e+00,\n       0.00000e+00, 0.00000e+00, 0.00000e+00, 0.00000e+00, 0.00000e+00,\n       0.00000e+00, 0.00000e+00, 0.00000e+00, 0.00000e+00, 0.00000e+00,\n       0.00000e+00, 0.00000e+00, 0.00000e+00, 0.00000e+00, 0.00000e+00,\n       0.00000e+00, 0.00000e+00, 0.00000e+00, 0.00000e+00, 0.00000e+00,\n       0.00000e+00, 0.00000e+00, 0.00000e+00, 0.00000e+00, 0.00000e+00,\n       0.00000e+00, 0.00000e+00, 0.00000e+00, 0.00000e+00, 0.00000e+00,\n       0.00000e+00, 0.00000e+00, 0.00000e+00, 0.00000e+00, 0.00000e+00,\n       0.00000e+00, 0.00000e+00, 0.00000e+00, 0.00000e+00, 0.00000e+00,\n       0.00000e+00, 0.00000e+00, 0.00000e+00, 0.00000e+00, 0.00000e+00,\n       0.00000e+00, 0.00000e+00, 0.00000e+00, 0.00000e+00, 0.00000e+00,\n       0.00000e+00, 0.00000e+00, 0.00000e+00, 0.00000e+00, 0.00000e+00,\n       0.00000e+00, 0.00000e+00, 0.00000e+00, 0.00000e+00, 0.00000e+00,\n       0.00000e+00, 0.00000e+00, 0.00000e+00, 0.00000e+00, 0.00000e+00,\n       0.00000e+00, 0.00000e+00, 0.00000e+00, 0.00000e+00, 0.00000e+00,\n       0.00000e+00, 0.00000e+00, 0.00000e+00, 0.00000e+00, 0.00000e+00,\n       0.00000e+00, 0.00000e+00, 0.00000e+00, 0.00000e+00, 0.00000e+00,\n       0.00000e+00, 0.00000e+00, 0.00000e+00, 0.00000e+00, 0.00000e+00,\n       0.00000e+00, 0.00000e+00, 0.00000e+00, 0.00000e+00, 0.00000e+00,\n       0.00000e+00, 0.00000e+00, 0.00000e+00, 0.00000e+00, 0.00000e+00,\n       0.00000e+00, 0.00000e+00, 0.00000e+00, 0.00000e+00, 0.00000e+00,\n       0.00000e+00, 0.00000e+00, 0.00000e+00, 0.00000e+00, 0.00000e+00,\n       0.00000e+00, 0.00000e+00, 0.00000e+00, 0.00000e+00, 0.00000e+00,\n       0.00000e+00, 0.00000e+00, 0.00000e+00, 0.00000e+00, 0.00000e+00,\n       0.00000e+00, 3.60000e-01, 4.30000e-01, 4.70000e-01, 5.50000e-01,\n       6.10000e-01, 7.10000e-01, 7.70000e-01, 9.00000e-01, 9.50000e-01,\n       9.60000e-01, 1.07000e+00, 1.12000e+00, 1.19000e+00, 1.36000e+00,\n       1.43000e+00, 1.46000e+00, 1.46000e+00, 1.56000e+00, 1.61000e+00,\n       1.63000e+00, 1.64000e+00, 1.69000e+00, 1.75000e+00, 1.90000e+00,\n       1.94000e+00, 1.95000e+00, 2.01000e+00, 2.14000e+00, 2.29000e+00,\n       2.51000e+00, 2.53000e+00, 2.55000e+00, 2.57000e+00, 2.69000e+00,\n       2.74000e+00, 3.07000e+00, 3.50000e+00, 4.53000e+00, 4.61000e+00,\n       4.69000e+00, 4.88000e+00, 5.23000e+00, 5.33000e+00, 5.44000e+00,\n       6.38000e+00, 6.83000e+00, 6.96000e+00, 7.04000e+00, 7.19000e+00,\n       7.30000e+00, 7.40000e+00, 8.24000e+00, 8.31000e+00, 8.68000e+00,\n       8.71000e+00, 9.41000e+00, 1.00100e+01, 1.00200e+01, 1.09300e+01,\n       1.10600e+01, 1.12400e+01, 1.13200e+01, 1.15300e+01, 1.21000e+01,\n       1.30500e+01, 1.37000e+01, 1.39900e+01, 1.45700e+01, 1.54500e+01,\n       1.72000e+01, 1.92300e+01, 2.34100e+01, 2.42300e+01, 2.60000e+01,\n       2.61300e+01, 2.73500e+01, 2.86600e+01, 2.94800e+01, 3.03200e+01,\n       3.17200e+01, 3.18600e+01, 3.20700e+01, 3.58800e+01, 3.68500e+01,\n       3.70200e+01, 3.77100e+01, 4.85500e+01, 4.93700e+01, 5.83000e+01,\n       6.41000e+01, 7.13000e+01, 8.84900e+01, 9.51800e+01, 1.03390e+02,\n       1.05660e+02, 1.54880e+02, 1.96480e+02, 2.00940e+02, 2.12880e+02,\n       1.09084e+03, 0.00000e+00, 0.00000e+00, 0.00000e+00, 1.01300e+01,\n       0.00000e+00, 2.87000e+00, 7.60000e-01, 9.00000e-02, 7.50000e-01,\n       0.00000e+00, 2.47000e+00, 6.80000e-01, 2.40000e-01, 2.10000e-01,\n       1.52000e+00, 1.03400e+01, 0.00000e+00, 8.02000e+00, 6.80000e-01,\n       0.00000e+00, 1.38000e+00, 8.85000e+00, 3.30000e+00, 4.25000e+00,\n       1.56000e+00, 6.54000e+00, 7.90000e-01, 1.70000e-01, 0.00000e+00,\n       0.00000e+00, 4.40000e+00, 5.20000e-01, 9.27000e+00, 3.09000e+00,\n       8.98000e+00, 1.11900e+01, 5.38000e+00, 1.78500e+01, 1.07300e+01,\n       2.20300e+01, 9.77000e+00, 9.27000e+00, 2.47700e+01, 0.00000e+00,\n       1.10000e+00, 2.42400e+01, 0.00000e+00, 0.00000e+00, 0.00000e+00,\n       0.00000e+00, 0.00000e+00, 0.00000e+00, 8.00000e+00, 2.64000e+00,\n       8.64500e+01, 6.57000e+00, 0.00000e+00, 9.00000e-01, 0.00000e+00,\n       0.00000e+00, 0.00000e+00, 0.00000e+00, 3.52000e+00, 0.00000e+00,\n       0.00000e+00, 0.00000e+00, 4.10000e-01, 5.18000e+00, 0.00000e+00,\n       0.00000e+00, 0.00000e+00, 1.42900e+01, 0.00000e+00, 0.00000e+00,\n       1.58000e+00, 0.00000e+00, 0.00000e+00, 3.78000e+00, 0.00000e+00,\n       4.41000e+00, 3.43600e+01, 7.21000e+00, 1.01000e+00, 2.18000e+00,\n       4.42000e+00, 0.00000e+00, 0.00000e+00, 0.00000e+00, 0.00000e+00,\n       3.33000e+00, 6.58000e+00, 1.56400e+01, 1.12200e+01, 2.13000e+00,\n       0.00000e+00, 0.00000e+00, 0.00000e+00, 5.60400e+01, 7.48000e+00,\n       1.47000e+00, 3.93000e+00, 0.00000e+00, 0.00000e+00, 2.18000e+00,\n       6.10000e+00, 5.83000e+00, 2.81900e+01, 0.00000e+00, 0.00000e+00,\n       1.64000e+00, 3.71000e+00, 7.31000e+00, 2.03000e+00, 1.72000e+00,\n       5.97000e+00, 1.30600e+01, 1.26000e+00, 0.00000e+00, 0.00000e+00,\n       8.12000e+00, 1.09000e+00, 3.94000e+00, 5.20000e-01, 2.93000e+00,\n       5.65000e+00, 2.00300e+01, 1.75000e+00, 0.00000e+00, 1.26400e+01,\n       0.00000e+00, 1.10600e+01, 0.00000e+00, 0.00000e+00, 0.00000e+00,\n       1.83000e+01, 3.93500e+01, 0.00000e+00, 1.74630e+02, 0.00000e+00,\n       0.00000e+00, 7.73000e+00, 1.63300e+01, 5.86000e+00, 4.28700e+01,\n       1.21800e+01, 1.60000e+01, 2.45900e+01, 0.00000e+00, 2.87400e+01,\n       0.00000e+00, 9.96000e+00, 3.01800e+01, 7.07600e+01, 0.00000e+00,\n       0.00000e+00, 5.17800e+01, 3.64000e+00, 3.63000e+00, 0.00000e+00,\n       0.00000e+00, 8.16000e+00, 4.95000e+00, 0.00000e+00, 0.00000e+00,\n       6.04000e+00, 0.00000e+00, 3.95000e+00, 0.00000e+00, 7.80000e+00,\n       0.00000e+00, 0.00000e+00, 4.62000e+00, 1.63000e+00, 0.00000e+00,\n       0.00000e+00, 7.46280e+02, 7.02000e+00, 0.00000e+00, 2.44000e+00,\n       3.05000e+00, 1.85760e+02, 0.00000e+00, 6.30000e+00, 7.20000e-01,\n       4.96000e+00, 0.00000e+00, 0.00000e+00, 2.35000e+00, 0.00000e+00,\n       3.20000e+00, 0.00000e+00, 6.36000e+00, 0.00000e+00, 1.53400e+01,\n       0.00000e+00, 0.00000e+00, 5.40000e-01, 0.00000e+00, 6.43000e+00,\n       3.30000e-01, 0.00000e+00, 1.23000e+00, 3.35000e+00, 0.00000e+00,\n       9.96000e+00, 0.00000e+00, 0.00000e+00, 0.00000e+00, 0.00000e+00,\n       0.00000e+00, 6.43000e+00, 9.71000e+00, 0.00000e+00, 0.00000e+00,\n       0.00000e+00, 0.00000e+00, 0.00000e+00, 8.27500e+01, 3.32000e+00,\n       1.94000e+00, 0.00000e+00, 0.00000e+00, 3.71000e+00, 5.39000e+00,\n       2.14000e+00, 6.84000e+00, 3.18000e+00, 5.55000e+00, 6.61000e+00,\n       6.11300e+01, 0.00000e+00, 3.84800e+01, 1.94000e+00, 7.03200e+01,\n       1.00800e+01, 3.19000e+00, 1.76000e+00, 7.36000e+00, 2.21000e+00,\n       2.78530e+02, 2.75000e+00, 0.00000e+00, 1.29000e+00, 0.00000e+00,\n       2.64300e+01, 2.07000e+00, 2.00000e+00, 1.64000e+01, 4.67000e+01,\n       0.00000e+00, 0.00000e+00, 0.00000e+00, 0.00000e+00, 4.33200e+01,\n       8.59000e+00, 0.00000e+00, 2.77000e+00, 1.46800e+01, 4.05400e+01,\n       1.08200e+01, 0.00000e+00, 0.00000e+00, 0.00000e+00, 1.95000e+00,\n       4.95900e+01, 5.80000e+00, 0.00000e+00, 0.00000e+00, 0.00000e+00,\n       2.17000e+00, 4.30000e-01, 0.00000e+00, 6.44000e+00, 5.42900e+01,\n       1.11600e+01, 0.00000e+00, 0.00000e+00])"
     },
     "metadata": {},
     "execution_count": 17
    }
   ],
   "source": [
    "y"
   ]
  },
  {
   "cell_type": "markdown",
   "metadata": {},
   "source": [
    "#### Applying one hot encoder"
   ]
  },
  {
   "cell_type": "code",
   "execution_count": 18,
   "metadata": {},
   "outputs": [],
   "source": [
    "ct = ColumnTransformer(transformers=[('encoder', OneHotEncoder(), [0])], remainder='passthrough')\n",
    "x = np.array(ct.fit_transform(x))"
   ]
  },
  {
   "cell_type": "code",
   "execution_count": 19,
   "metadata": {},
   "outputs": [
    {
     "output_type": "execute_result",
     "data": {
      "text/plain": "array([[1.0, 0.0, 0.0, ..., 26.2, 8.2, 6.7],\n       [0.0, 0.0, 0.0, ..., 35.4, 18.0, 0.9],\n       [0.0, 0.0, 1.0, ..., 43.7, 14.6, 1.3],\n       ...,\n       [0.0, 0.0, 0.0, ..., 56.7, 21.2, 6.7],\n       [0.0, 0.0, 1.0, ..., 146.0, 25.6, 4.0],\n       [0.0, 0.0, 0.0, ..., 3.0, 11.8, 4.5]], dtype=object)"
     },
     "metadata": {},
     "execution_count": 19
    }
   ],
   "source": [
    "x"
   ]
  },
  {
   "cell_type": "markdown",
   "metadata": {},
   "source": [
    "#### Split data into train & test"
   ]
  },
  {
   "cell_type": "code",
   "execution_count": 20,
   "metadata": {},
   "outputs": [],
   "source": [
    "x_train, x_test, y_train, y_test = train_test_split(x, y, test_size = 0.2, random_state = 1)"
   ]
  },
  {
   "cell_type": "markdown",
   "metadata": {},
   "source": [
    "#### Feature Scaling"
   ]
  },
  {
   "cell_type": "code",
   "execution_count": 23,
   "metadata": {},
   "outputs": [
    {
     "output_type": "execute_result",
     "data": {
      "text/plain": "array([[0.0, 0.0, 0.0, ..., 108.3, 16.6, 5.4],\n       [1.0, 0.0, 0.0, ..., 13.2, 12.3, 0.9],\n       [0.0, 0.0, 0.0, ..., 276.3, 21.9, 4.0],\n       ...,\n       [0.0, 0.0, 0.0, ..., 49.5, 28.0, 4.5],\n       [0.0, 0.0, 1.0, ..., 121.1, 25.1, 4.0],\n       [1.0, 0.0, 0.0, ..., 41.5, 11.3, 5.4]], dtype=object)"
     },
     "metadata": {},
     "execution_count": 23
    }
   ],
   "source": [
    "x_train"
   ]
  },
  {
   "cell_type": "code",
   "execution_count": 24,
   "metadata": {},
   "outputs": [],
   "source": [
    "sc_x = StandardScaler()\n",
    "x_train = sc_x.fit_transform(x_train)\n",
    "x_test = sc_x.transform(x_test)"
   ]
  },
  {
   "cell_type": "code",
   "execution_count": 25,
   "metadata": {},
   "outputs": [
    {
     "output_type": "execute_result",
     "data": {
      "text/plain": "array([[-0.4380188 , -0.39361095, -0.4380188 , ..., -0.01895648,\n        -0.36976457,  0.75898409],\n       [ 2.28300705, -0.39361095, -0.4380188 , ..., -1.48200522,\n        -1.09088728, -1.71377883],\n       [-0.4380188 , -0.39361095, -0.4380188 , ...,  2.56560912,\n         0.5190611 , -0.01031993],\n       ...,\n       [-0.4380188 , -0.39361095, -0.4380188 , ..., -0.92355444,\n         1.54204913,  0.2644315 ],\n       [-0.4380188 , -0.39361095,  2.28300705, ...,  0.1779628 ,\n         1.05571056, -0.01031993],\n       [ 2.28300705, -0.39361095, -0.4380188 , ..., -1.046629  ,\n        -1.25859023,  0.75898409]])"
     },
     "metadata": {},
     "execution_count": 25
    }
   ],
   "source": [
    "x_train"
   ]
  },
  {
   "cell_type": "code",
   "execution_count": null,
   "metadata": {},
   "outputs": [],
   "source": []
  }
 ],
 "metadata": {
  "language_info": {
   "codemirror_mode": {
    "name": "ipython",
    "version": 3
   },
   "file_extension": ".py",
   "mimetype": "text/x-python",
   "name": "python",
   "nbconvert_exporter": "python",
   "pygments_lexer": "ipython3",
   "version": "3.7.7-final"
  },
  "orig_nbformat": 2,
  "kernelspec": {
   "name": "python37764bitvenvvenvad8c4df3ad5a45bb9181e3f8d0edf16a",
   "display_name": "Python 3.7.7 64-bit ('.venv': venv)"
  }
 },
 "nbformat": 4,
 "nbformat_minor": 2
}